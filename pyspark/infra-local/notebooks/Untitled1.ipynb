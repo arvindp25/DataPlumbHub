{
 "cells": [
  {
   "cell_type": "code",
   "execution_count": 19,
   "id": "47c7cc45-965d-495b-9d14-86ce92dc35a9",
   "metadata": {},
   "outputs": [],
   "source": [
    "from pyspark.sql import SparkSession\n",
    "import pyspark.sql.functions as f"
   ]
  },
  {
   "cell_type": "code",
   "execution_count": 2,
   "id": "29e795c3-9dad-4252-822e-6e40fde13752",
   "metadata": {},
   "outputs": [],
   "source": [
    "spark = SparkSession.builder.appName(\"wikimedia\").getOrCreate()"
   ]
  },
  {
   "cell_type": "code",
   "execution_count": 7,
   "id": "15ba393e-f2f0-430c-81b1-c3412ae89cae",
   "metadata": {},
   "outputs": [
    {
     "name": "stdout",
     "output_type": "stream",
     "text": [
      "/home/jovyan/work\n"
     ]
    }
   ],
   "source": [
    "!pwd"
   ]
  },
  {
   "cell_type": "code",
   "execution_count": 9,
   "id": "dacde288-7ccb-4aaa-9e7a-77749c7c024f",
   "metadata": {},
   "outputs": [],
   "source": [
    "df = spark.read.format(\"json\").option(\"path\",\"/home/jovyan/work/stream2025-05-03_07_46_20Z_bdc832\").load()"
   ]
  },
  {
   "cell_type": "markdown",
   "id": "b75091bd-d5e9-450b-ac7b-1c64d6fb231e",
   "metadata": {},
   "source": [
    "# https://www.mediawiki.org/wiki/API:RecentChanges\n",
    "\n",
    "\n",
    "| Field       | Type      | Description                                                                                  |\n",
    "| ----------- | --------- | -------------------------------------------------------------------------------------------- |\n",
    "| `type`      | `string`  | Type of change. Values include: `edit`, `new`, `log`, `categorize`, `external` (rare).       |\n",
    "| `ns`        | `int`     | Namespace number. For example: `0` = main/article, `1` = talk, `2` = user, etc.              |\n",
    "| `title`     | `string`  | Title of the page that was changed.                                                          |\n",
    "| `pageid`    | `int`     | ID of the page.                                                                              |\n",
    "| `revid`     | `int`     | Revision ID (new version).                                                                   |\n",
    "| `old_revid` | `int`     | Revision ID before the change.                                                               |\n",
    "| `rcid`      | `int`     | Recent change ID (unique to this change event).                                              |\n",
    "| `user`      | `string`  | Username or IP address of the editor.                                                        |\n",
    "| `anon`      | `boolean` | Indicates if the user is anonymous (IP edit).                                                |\n",
    "| `bot`       | `boolean` | Indicates if the change was made by a bot.                                                   |\n",
    "| `minor`     | `boolean` | Indicates a \"minor edit\" (user marked it as such).                                           |\n",
    "| `patrolled` | `boolean` | Indicates if the edit was patrolled (for wikis that use this feature).                       |\n",
    "| `comment`   | `string`  | Edit summary/comment entered by the editor.                                                  |\n",
    "| `timestamp` | `string`  | ISO 8601 timestamp of the change.                                                            |\n",
    "| `logtype`   | `string`  | For log entries: type of log (e.g., `block`, `delete`, `move`). Only appears for `type=log`. |\n",
    "| `logaction` | `string`  | Specific action within the log type.                                                         |\n"
   ]
  },
  {
   "cell_type": "code",
   "execution_count": 10,
   "id": "2aee7a22-3cab-4a45-9264-56de2a9d8b35",
   "metadata": {},
   "outputs": [
    {
     "name": "stdout",
     "output_type": "stream",
     "text": [
      "root\n",
      " |-- $schema: string (nullable = true)\n",
      " |-- bot: boolean (nullable = true)\n",
      " |-- comment: string (nullable = true)\n",
      " |-- id: long (nullable = true)\n",
      " |-- length: struct (nullable = true)\n",
      " |    |-- new: long (nullable = true)\n",
      " |    |-- old: long (nullable = true)\n",
      " |-- log_action: string (nullable = true)\n",
      " |-- log_action_comment: string (nullable = true)\n",
      " |-- log_id: long (nullable = true)\n",
      " |-- log_params: string (nullable = true)\n",
      " |-- log_type: string (nullable = true)\n",
      " |-- meta: struct (nullable = true)\n",
      " |    |-- domain: string (nullable = true)\n",
      " |    |-- dt: string (nullable = true)\n",
      " |    |-- id: string (nullable = true)\n",
      " |    |-- offset: long (nullable = true)\n",
      " |    |-- partition: long (nullable = true)\n",
      " |    |-- request_id: string (nullable = true)\n",
      " |    |-- stream: string (nullable = true)\n",
      " |    |-- topic: string (nullable = true)\n",
      " |    |-- uri: string (nullable = true)\n",
      " |-- minor: boolean (nullable = true)\n",
      " |-- namespace: long (nullable = true)\n",
      " |-- notify_url: string (nullable = true)\n",
      " |-- parsedcomment: string (nullable = true)\n",
      " |-- patrolled: boolean (nullable = true)\n",
      " |-- revision: struct (nullable = true)\n",
      " |    |-- new: long (nullable = true)\n",
      " |    |-- old: long (nullable = true)\n",
      " |-- server_name: string (nullable = true)\n",
      " |-- server_script_path: string (nullable = true)\n",
      " |-- server_url: string (nullable = true)\n",
      " |-- timestamp: long (nullable = true)\n",
      " |-- title: string (nullable = true)\n",
      " |-- title_url: string (nullable = true)\n",
      " |-- type: string (nullable = true)\n",
      " |-- user: string (nullable = true)\n",
      " |-- wiki: string (nullable = true)\n",
      "\n"
     ]
    }
   ],
   "source": [
    "df.printSchema()"
   ]
  },
  {
   "cell_type": "markdown",
   "id": "86ddd80d-ba24-4857-a013-3f491c58345a",
   "metadata": {},
   "source": [
    "Edit Activity Monitoring\n",
    "\n",
    "    Volume of edits over time (e.g., per hour, per day).\n",
    "\n",
    "    Compare activity across projects (e.g., English vs. French Wikipedia).\n",
    "\n",
    "    Detect high activity spikes, which might indicate newsworthy events or vandalism."
   ]
  },
  {
   "cell_type": "code",
   "execution_count": 34,
   "id": "1aba8f23-620b-4312-93bd-edc6cba0726a",
   "metadata": {},
   "outputs": [],
   "source": [
    "df = df.withColumn(\"datetime\" ,f.from_unixtime(f.col('timestamp')))\n",
    "df = df.withColumn(\"minute\", f.date_format(f.col('datetime'), \"mm\"))"
   ]
  },
  {
   "cell_type": "code",
   "execution_count": null,
   "id": "1c70ba55-29aa-489a-b0dd-d808fd15046e",
   "metadata": {},
   "outputs": [],
   "source": []
  },
  {
   "cell_type": "code",
   "execution_count": 40,
   "id": "f5f15570-af18-47e2-8581-dd89c7f63171",
   "metadata": {},
   "outputs": [],
   "source": [
    "df_edit_per_minute = df.groupBy([\"minute\"]).agg(f.count(f.col(\"id\")).alias(\"edit_per_minute\"))"
   ]
  },
  {
   "cell_type": "code",
   "execution_count": 41,
   "id": "961dd067-0e59-4003-abe0-f6586ac11b76",
   "metadata": {},
   "outputs": [
    {
     "name": "stdout",
     "output_type": "stream",
     "text": [
      "+------+---------------+\n",
      "|minute|edit_per_minute|\n",
      "+------+---------------+\n",
      "|    47|             75|\n",
      "|    46|             65|\n",
      "+------+---------------+\n",
      "\n"
     ]
    }
   ],
   "source": [
    "df_edit_per_minute.show()"
   ]
  },
  {
   "cell_type": "code",
   "execution_count": 27,
   "id": "a9bcc083-528c-4d2e-b0f9-b10c24944d39",
   "metadata": {},
   "outputs": [
    {
     "name": "stdout",
     "output_type": "stream",
     "text": [
      "+-------------------+\n",
      "|           datetime|\n",
      "+-------------------+\n",
      "|2025-05-03 07:46:57|\n",
      "|2025-05-03 07:47:48|\n",
      "|2025-05-03 07:47:05|\n",
      "|2025-05-03 07:47:41|\n",
      "|2025-05-03 07:47:17|\n",
      "+-------------------+\n",
      "only showing top 5 rows\n",
      "\n"
     ]
    }
   ],
   "source": [
    "df.select('datetime').distinct().show(5)"
   ]
  },
  {
   "cell_type": "code",
   "execution_count": 20,
   "id": "7f1ff7e5-8242-4d3d-a79f-1baa753c2554",
   "metadata": {},
   "outputs": [
    {
     "ename": "StreamingQueryException",
     "evalue": "[STREAM_FAILED] Query [id = e4c4711f-1d93-4ea8-a569-03e6c50b315c, runId = ac489457-0787-434e-911e-b5484bc7fbdb] terminated with exception: wss://stream.binance.com",
     "output_type": "error",
     "traceback": [
      "\u001b[0;31m---------------------------------------------------------------------------\u001b[0m",
      "\u001b[0;31mStreamingQueryException\u001b[0m                   Traceback (most recent call last)",
      "Cell \u001b[0;32mIn[20], line 1\u001b[0m\n\u001b[0;32m----> 1\u001b[0m \u001b[43mq\u001b[49m\u001b[38;5;241;43m.\u001b[39;49m\u001b[43mawaitTermination\u001b[49m\u001b[43m(\u001b[49m\u001b[43m)\u001b[49m\n",
      "File \u001b[0;32m/usr/local/spark/python/pyspark/sql/streaming/query.py:221\u001b[0m, in \u001b[0;36mStreamingQuery.awaitTermination\u001b[0;34m(self, timeout)\u001b[0m\n\u001b[1;32m    219\u001b[0m     \u001b[38;5;28;01mreturn\u001b[39;00m \u001b[38;5;28mself\u001b[39m\u001b[38;5;241m.\u001b[39m_jsq\u001b[38;5;241m.\u001b[39mawaitTermination(\u001b[38;5;28mint\u001b[39m(timeout \u001b[38;5;241m*\u001b[39m \u001b[38;5;241m1000\u001b[39m))\n\u001b[1;32m    220\u001b[0m \u001b[38;5;28;01melse\u001b[39;00m:\n\u001b[0;32m--> 221\u001b[0m     \u001b[38;5;28;01mreturn\u001b[39;00m \u001b[38;5;28;43mself\u001b[39;49m\u001b[38;5;241;43m.\u001b[39;49m\u001b[43m_jsq\u001b[49m\u001b[38;5;241;43m.\u001b[39;49m\u001b[43mawaitTermination\u001b[49m\u001b[43m(\u001b[49m\u001b[43m)\u001b[49m\n",
      "File \u001b[0;32m/usr/local/spark/python/lib/py4j-0.10.9.7-src.zip/py4j/java_gateway.py:1322\u001b[0m, in \u001b[0;36mJavaMember.__call__\u001b[0;34m(self, *args)\u001b[0m\n\u001b[1;32m   1316\u001b[0m command \u001b[38;5;241m=\u001b[39m proto\u001b[38;5;241m.\u001b[39mCALL_COMMAND_NAME \u001b[38;5;241m+\u001b[39m\\\n\u001b[1;32m   1317\u001b[0m     \u001b[38;5;28mself\u001b[39m\u001b[38;5;241m.\u001b[39mcommand_header \u001b[38;5;241m+\u001b[39m\\\n\u001b[1;32m   1318\u001b[0m     args_command \u001b[38;5;241m+\u001b[39m\\\n\u001b[1;32m   1319\u001b[0m     proto\u001b[38;5;241m.\u001b[39mEND_COMMAND_PART\n\u001b[1;32m   1321\u001b[0m answer \u001b[38;5;241m=\u001b[39m \u001b[38;5;28mself\u001b[39m\u001b[38;5;241m.\u001b[39mgateway_client\u001b[38;5;241m.\u001b[39msend_command(command)\n\u001b[0;32m-> 1322\u001b[0m return_value \u001b[38;5;241m=\u001b[39m \u001b[43mget_return_value\u001b[49m\u001b[43m(\u001b[49m\n\u001b[1;32m   1323\u001b[0m \u001b[43m    \u001b[49m\u001b[43manswer\u001b[49m\u001b[43m,\u001b[49m\u001b[43m \u001b[49m\u001b[38;5;28;43mself\u001b[39;49m\u001b[38;5;241;43m.\u001b[39;49m\u001b[43mgateway_client\u001b[49m\u001b[43m,\u001b[49m\u001b[43m \u001b[49m\u001b[38;5;28;43mself\u001b[39;49m\u001b[38;5;241;43m.\u001b[39;49m\u001b[43mtarget_id\u001b[49m\u001b[43m,\u001b[49m\u001b[43m \u001b[49m\u001b[38;5;28;43mself\u001b[39;49m\u001b[38;5;241;43m.\u001b[39;49m\u001b[43mname\u001b[49m\u001b[43m)\u001b[49m\n\u001b[1;32m   1325\u001b[0m \u001b[38;5;28;01mfor\u001b[39;00m temp_arg \u001b[38;5;129;01min\u001b[39;00m temp_args:\n\u001b[1;32m   1326\u001b[0m     \u001b[38;5;28;01mif\u001b[39;00m \u001b[38;5;28mhasattr\u001b[39m(temp_arg, \u001b[38;5;124m\"\u001b[39m\u001b[38;5;124m_detach\u001b[39m\u001b[38;5;124m\"\u001b[39m):\n",
      "File \u001b[0;32m/usr/local/spark/python/pyspark/errors/exceptions/captured.py:185\u001b[0m, in \u001b[0;36mcapture_sql_exception.<locals>.deco\u001b[0;34m(*a, **kw)\u001b[0m\n\u001b[1;32m    181\u001b[0m converted \u001b[38;5;241m=\u001b[39m convert_exception(e\u001b[38;5;241m.\u001b[39mjava_exception)\n\u001b[1;32m    182\u001b[0m \u001b[38;5;28;01mif\u001b[39;00m \u001b[38;5;129;01mnot\u001b[39;00m \u001b[38;5;28misinstance\u001b[39m(converted, UnknownException):\n\u001b[1;32m    183\u001b[0m     \u001b[38;5;66;03m# Hide where the exception came from that shows a non-Pythonic\u001b[39;00m\n\u001b[1;32m    184\u001b[0m     \u001b[38;5;66;03m# JVM exception message.\u001b[39;00m\n\u001b[0;32m--> 185\u001b[0m     \u001b[38;5;28;01mraise\u001b[39;00m converted \u001b[38;5;28;01mfrom\u001b[39;00m \u001b[38;5;28;01mNone\u001b[39;00m\n\u001b[1;32m    186\u001b[0m \u001b[38;5;28;01melse\u001b[39;00m:\n\u001b[1;32m    187\u001b[0m     \u001b[38;5;28;01mraise\u001b[39;00m\n",
      "\u001b[0;31mStreamingQueryException\u001b[0m: [STREAM_FAILED] Query [id = e4c4711f-1d93-4ea8-a569-03e6c50b315c, runId = ac489457-0787-434e-911e-b5484bc7fbdb] terminated with exception: wss://stream.binance.com"
     ]
    }
   ],
   "source": [
    "q.awaitTermination()"
   ]
  },
  {
   "cell_type": "code",
   "execution_count": null,
   "id": "68469726-65bf-488f-a259-95fcb14fec5c",
   "metadata": {},
   "outputs": [],
   "source": []
  }
 ],
 "metadata": {
  "kernelspec": {
   "display_name": "Python 3 (ipykernel)",
   "language": "python",
   "name": "python3"
  },
  "language_info": {
   "codemirror_mode": {
    "name": "ipython",
    "version": 3
   },
   "file_extension": ".py",
   "mimetype": "text/x-python",
   "name": "python",
   "nbconvert_exporter": "python",
   "pygments_lexer": "ipython3",
   "version": "3.11.6"
  }
 },
 "nbformat": 4,
 "nbformat_minor": 5
}
