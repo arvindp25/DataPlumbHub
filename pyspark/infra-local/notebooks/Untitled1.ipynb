{
 "cells": [
  {
   "cell_type": "code",
   "execution_count": 1,
   "id": "47c7cc45-965d-495b-9d14-86ce92dc35a9",
   "metadata": {},
   "outputs": [],
   "source": [
    "from pyspark.sql import SparkSession\n",
    "import pyspark.sql.functions as f"
   ]
  },
  {
   "cell_type": "code",
   "execution_count": 2,
   "id": "29e795c3-9dad-4252-822e-6e40fde13752",
   "metadata": {},
   "outputs": [],
   "source": [
    "spark = SparkSession.builder.appName(\"wikimedia\").getOrCreate()"
   ]
  },
  {
   "cell_type": "code",
   "execution_count": 3,
   "id": "15ba393e-f2f0-430c-81b1-c3412ae89cae",
   "metadata": {},
   "outputs": [
    {
     "name": "stdout",
     "output_type": "stream",
     "text": [
      "/home/jovyan/work\n"
     ]
    }
   ],
   "source": [
    "!pwd"
   ]
  },
  {
   "cell_type": "code",
   "execution_count": 4,
   "id": "dacde288-7ccb-4aaa-9e7a-77749c7c024f",
   "metadata": {},
   "outputs": [],
   "source": [
    "df = spark.read.format(\"json\").option(\"path\",\"/home/jovyan/work/stream2025-05-03_07_46_20Z_bdc832\").load()"
   ]
  },
  {
   "cell_type": "markdown",
   "id": "b75091bd-d5e9-450b-ac7b-1c64d6fb231e",
   "metadata": {},
   "source": [
    "# https://www.mediawiki.org/wiki/API:RecentChanges\n",
    "\n",
    "\n",
    "| Field       | Type      | Description                                                                                  |\n",
    "| ----------- | --------- | -------------------------------------------------------------------------------------------- |\n",
    "| `type`      | `string`  | Type of change. Values include: `edit`, `new`, `log`, `categorize`, `external` (rare).       |\n",
    "| `ns`        | `int`     | Namespace number. For example: `0` = main/article, `1` = talk, `2` = user, etc.              |\n",
    "| `title`     | `string`  | Title of the page that was changed.                                                          |\n",
    "| `pageid`    | `int`     | ID of the page.                                                                              |\n",
    "| `revid`     | `int`     | Revision ID (new version).                                                                   |\n",
    "| `old_revid` | `int`     | Revision ID before the change.                                                               |\n",
    "| `rcid`      | `int`     | Recent change ID (unique to this change event).                                              |\n",
    "| `user`      | `string`  | Username or IP address of the editor.                                                        |\n",
    "| `anon`      | `boolean` | Indicates if the user is anonymous (IP edit).                                                |\n",
    "| `bot`       | `boolean` | Indicates if the change was made by a bot.                                                   |\n",
    "| `minor`     | `boolean` | Indicates a \"minor edit\" (user marked it as such).                                           |\n",
    "| `patrolled` | `boolean` | Indicates if the edit was patrolled (for wikis that use this feature).                       |\n",
    "| `comment`   | `string`  | Edit summary/comment entered by the editor.                                                  |\n",
    "| `timestamp` | `string`  | ISO 8601 timestamp of the change.                                                            |\n",
    "| `logtype`   | `string`  | For log entries: type of log (e.g., `block`, `delete`, `move`). Only appears for `type=log`. |\n",
    "| `logaction` | `string`  | Specific action within the log type.                                                         |\n"
   ]
  },
  {
   "cell_type": "code",
   "execution_count": 5,
   "id": "fb1fd220-8265-4519-a448-c6d93ace54f3",
   "metadata": {},
   "outputs": [],
   "source": [
    "# df.select('logaction').distinct().show()"
   ]
  },
  {
   "cell_type": "code",
   "execution_count": 6,
   "id": "2aee7a22-3cab-4a45-9264-56de2a9d8b35",
   "metadata": {},
   "outputs": [
    {
     "name": "stdout",
     "output_type": "stream",
     "text": [
      "root\n",
      " |-- $schema: string (nullable = true)\n",
      " |-- bot: boolean (nullable = true)\n",
      " |-- comment: string (nullable = true)\n",
      " |-- id: long (nullable = true)\n",
      " |-- length: struct (nullable = true)\n",
      " |    |-- new: long (nullable = true)\n",
      " |    |-- old: long (nullable = true)\n",
      " |-- log_action: string (nullable = true)\n",
      " |-- log_action_comment: string (nullable = true)\n",
      " |-- log_id: long (nullable = true)\n",
      " |-- log_params: string (nullable = true)\n",
      " |-- log_type: string (nullable = true)\n",
      " |-- meta: struct (nullable = true)\n",
      " |    |-- domain: string (nullable = true)\n",
      " |    |-- dt: string (nullable = true)\n",
      " |    |-- id: string (nullable = true)\n",
      " |    |-- offset: long (nullable = true)\n",
      " |    |-- partition: long (nullable = true)\n",
      " |    |-- request_id: string (nullable = true)\n",
      " |    |-- stream: string (nullable = true)\n",
      " |    |-- topic: string (nullable = true)\n",
      " |    |-- uri: string (nullable = true)\n",
      " |-- minor: boolean (nullable = true)\n",
      " |-- namespace: long (nullable = true)\n",
      " |-- notify_url: string (nullable = true)\n",
      " |-- parsedcomment: string (nullable = true)\n",
      " |-- patrolled: boolean (nullable = true)\n",
      " |-- revision: struct (nullable = true)\n",
      " |    |-- new: long (nullable = true)\n",
      " |    |-- old: long (nullable = true)\n",
      " |-- server_name: string (nullable = true)\n",
      " |-- server_script_path: string (nullable = true)\n",
      " |-- server_url: string (nullable = true)\n",
      " |-- timestamp: long (nullable = true)\n",
      " |-- title: string (nullable = true)\n",
      " |-- title_url: string (nullable = true)\n",
      " |-- type: string (nullable = true)\n",
      " |-- user: string (nullable = true)\n",
      " |-- wiki: string (nullable = true)\n",
      "\n"
     ]
    }
   ],
   "source": [
    "df.printSchema()"
   ]
  },
  {
   "cell_type": "markdown",
   "id": "86ddd80d-ba24-4857-a013-3f491c58345a",
   "metadata": {},
   "source": [
    "Edit Activity Monitoring\n",
    "\n",
    "    Volume of edits over time (e.g., per hour, per day).\n",
    "\n",
    "    Compare activity across projects (e.g., English vs. French Wikipedia).\n",
    "\n",
    "    Detect high activity spikes, which might indicate newsworthy events or vandalism."
   ]
  },
  {
   "cell_type": "code",
   "execution_count": 15,
   "id": "1aba8f23-620b-4312-93bd-edc6cba0726a",
   "metadata": {},
   "outputs": [],
   "source": [
    "from pyspark.sql.window import Window\n",
    "df = df.withColumn(\"datetime\" ,f.from_unixtime(f.col('timestamp')))\n",
    "df = df.withColumn(\"minute\", f.date_format(f.col('datetime'), \"mm\"))\n",
    "\n",
    "edits_per_min = df.groupBy(f.window(\"datetime\", \"1 minute\").alias(\"window\")) \\\n",
    ".agg(f.count(\"*\").alias(\"edit_count\"))"
   ]
  },
  {
   "cell_type": "code",
   "execution_count": 16,
   "id": "1c70ba55-29aa-489a-b0dd-d808fd15046e",
   "metadata": {},
   "outputs": [
    {
     "name": "stdout",
     "output_type": "stream",
     "text": [
      "+--------------------+----------+\n",
      "|              window|edit_count|\n",
      "+--------------------+----------+\n",
      "|{2025-05-03 07:47...|        79|\n",
      "|{2025-05-03 07:46...|        65|\n",
      "+--------------------+----------+\n",
      "\n"
     ]
    }
   ],
   "source": [
    "edits_per_min.show()"
   ]
  },
  {
   "cell_type": "code",
   "execution_count": 17,
   "id": "15513acc-fe35-4914-9126-9d9c0fa88487",
   "metadata": {},
   "outputs": [
    {
     "name": "stdout",
     "output_type": "stream",
     "text": [
      "root\n",
      " |-- window: struct (nullable = false)\n",
      " |    |-- start: timestamp (nullable = true)\n",
      " |    |-- end: timestamp (nullable = true)\n",
      " |-- edit_count: long (nullable = false)\n",
      "\n"
     ]
    }
   ],
   "source": [
    "edits_per_min.printSchema()"
   ]
  },
  {
   "cell_type": "code",
   "execution_count": 19,
   "id": "3badb987-1f34-4078-a749-02bf6fac90b0",
   "metadata": {},
   "outputs": [],
   "source": [
    "edits_per_min = edits_per_min.withColumn(\"window\", f.col(\"window\").cast(\"string\"))"
   ]
  },
  {
   "cell_type": "code",
   "execution_count": 20,
   "id": "1d4c4224-f598-4777-94b4-d81f1bced0b9",
   "metadata": {},
   "outputs": [
    {
     "name": "stdout",
     "output_type": "stream",
     "text": [
      "+--------------------+----------+\n",
      "|              window|edit_count|\n",
      "+--------------------+----------+\n",
      "|{2025-05-03 07:47...|        79|\n",
      "|{2025-05-03 07:46...|        65|\n",
      "+--------------------+----------+\n",
      "\n"
     ]
    }
   ],
   "source": [
    "edits_per_min.show()"
   ]
  },
  {
   "cell_type": "code",
   "execution_count": 21,
   "id": "48312e04-ed53-447d-a7cf-d6ebc76fcad7",
   "metadata": {},
   "outputs": [
    {
     "name": "stdout",
     "output_type": "stream",
     "text": [
      "root\n",
      " |-- window: string (nullable = false)\n",
      " |-- edit_count: long (nullable = false)\n",
      "\n"
     ]
    }
   ],
   "source": [
    "edits_per_min.printSchema()"
   ]
  },
  {
   "cell_type": "code",
   "execution_count": 50,
   "id": "3c24322b-9d3f-43d0-9605-4d8b814e823a",
   "metadata": {},
   "outputs": [],
   "source": [
    "rolling_avg_df = df.withWatermark(\"datetime\", \"10 minutes\") \\\n",
    ".groupBy(f.window(\"datetime\", \"5 minutes\", \"1 minutes\").alias(\"window\"))\\\n",
    ".agg(f.count(\"*\").alias(\"rolling_avg_edit_count\"))"
   ]
  },
  {
   "cell_type": "code",
   "execution_count": 104,
   "id": "01bf58e9-19bd-44b9-9827-c2b609ec323a",
   "metadata": {},
   "outputs": [
    {
     "name": "stdout",
     "output_type": "stream",
     "text": [
      "+--------------------+----------------------+\n",
      "|              window|rolling_avg_edit_count|\n",
      "+--------------------+----------------------+\n",
      "|{2025-05-03 07:42...|                    65|\n",
      "|{2025-05-03 07:46...|                   144|\n",
      "|{2025-05-03 07:44...|                   144|\n",
      "|{2025-05-03 07:47...|                    79|\n",
      "|{2025-05-03 07:43...|                   144|\n",
      "|{2025-05-03 07:45...|                   144|\n",
      "+--------------------+----------------------+\n",
      "\n"
     ]
    }
   ],
   "source": [
    "rolling_avg_df.show()"
   ]
  },
  {
   "cell_type": "code",
   "execution_count": 105,
   "id": "4384727a-c713-4f99-9fd1-dee5d9491421",
   "metadata": {},
   "outputs": [
    {
     "name": "stdout",
     "output_type": "stream",
     "text": [
      "root\n",
      " |-- window: struct (nullable = true)\n",
      " |    |-- start: timestamp (nullable = true)\n",
      " |    |-- end: timestamp (nullable = true)\n",
      " |-- rolling_avg_edit_count: long (nullable = false)\n",
      "\n"
     ]
    }
   ],
   "source": [
    "rolling_avg_df.printSchema()"
   ]
  },
  {
   "cell_type": "code",
   "execution_count": 40,
   "id": "f5f15570-af18-47e2-8581-dd89c7f63171",
   "metadata": {},
   "outputs": [],
   "source": [
    "df_edit_per_minute = df.groupBy([\"minute\"]).agg(f.count(f.col(\"id\")).alias(\"edit_per_minute\"))"
   ]
  },
  {
   "cell_type": "code",
   "execution_count": 41,
   "id": "961dd067-0e59-4003-abe0-f6586ac11b76",
   "metadata": {},
   "outputs": [
    {
     "name": "stdout",
     "output_type": "stream",
     "text": [
      "+------+---------------+\n",
      "|minute|edit_per_minute|\n",
      "+------+---------------+\n",
      "|    47|             75|\n",
      "|    46|             65|\n",
      "+------+---------------+\n",
      "\n"
     ]
    }
   ],
   "source": [
    "df_edit_per_minute.show()"
   ]
  },
  {
   "cell_type": "code",
   "execution_count": 27,
   "id": "a9bcc083-528c-4d2e-b0f9-b10c24944d39",
   "metadata": {},
   "outputs": [
    {
     "name": "stdout",
     "output_type": "stream",
     "text": [
      "+-------------------+\n",
      "|           datetime|\n",
      "+-------------------+\n",
      "|2025-05-03 07:46:57|\n",
      "|2025-05-03 07:47:48|\n",
      "|2025-05-03 07:47:05|\n",
      "|2025-05-03 07:47:41|\n",
      "|2025-05-03 07:47:17|\n",
      "+-------------------+\n",
      "only showing top 5 rows\n",
      "\n"
     ]
    }
   ],
   "source": [
    "df.select('datetime').distinct().show(5)"
   ]
  },
  {
   "cell_type": "code",
   "execution_count": 57,
   "id": "68469726-65bf-488f-a259-95fcb14fec5c",
   "metadata": {},
   "outputs": [],
   "source": [
    "# 2. User Behavior Analysis\n",
    "\n",
    "#     Breakdown of anonymous vs registered vs bot edits.\n",
    "\n",
    "#     Track frequent contributors or new user contributions.\n",
    "\n",
    "#     Detect possible suspicious accounts (new users making many edits quickly)."
   ]
  },
  {
   "cell_type": "code",
   "execution_count": 58,
   "id": "d73fc5cb-5619-49c2-9b05-cedda3936517",
   "metadata": {},
   "outputs": [
    {
     "name": "stdout",
     "output_type": "stream",
     "text": [
      "root\n",
      " |-- $schema: string (nullable = true)\n",
      " |-- bot: boolean (nullable = true)\n",
      " |-- comment: string (nullable = true)\n",
      " |-- id: long (nullable = true)\n",
      " |-- length: struct (nullable = true)\n",
      " |    |-- new: long (nullable = true)\n",
      " |    |-- old: long (nullable = true)\n",
      " |-- log_action: string (nullable = true)\n",
      " |-- log_action_comment: string (nullable = true)\n",
      " |-- log_id: long (nullable = true)\n",
      " |-- log_params: string (nullable = true)\n",
      " |-- log_type: string (nullable = true)\n",
      " |-- meta: struct (nullable = true)\n",
      " |    |-- domain: string (nullable = true)\n",
      " |    |-- dt: string (nullable = true)\n",
      " |    |-- id: string (nullable = true)\n",
      " |    |-- offset: long (nullable = true)\n",
      " |    |-- partition: long (nullable = true)\n",
      " |    |-- request_id: string (nullable = true)\n",
      " |    |-- stream: string (nullable = true)\n",
      " |    |-- topic: string (nullable = true)\n",
      " |    |-- uri: string (nullable = true)\n",
      " |-- minor: boolean (nullable = true)\n",
      " |-- namespace: long (nullable = true)\n",
      " |-- notify_url: string (nullable = true)\n",
      " |-- parsedcomment: string (nullable = true)\n",
      " |-- patrolled: boolean (nullable = true)\n",
      " |-- revision: struct (nullable = true)\n",
      " |    |-- new: long (nullable = true)\n",
      " |    |-- old: long (nullable = true)\n",
      " |-- server_name: string (nullable = true)\n",
      " |-- server_script_path: string (nullable = true)\n",
      " |-- server_url: string (nullable = true)\n",
      " |-- timestamp: long (nullable = true)\n",
      " |-- title: string (nullable = true)\n",
      " |-- title_url: string (nullable = true)\n",
      " |-- type: string (nullable = true)\n",
      " |-- user: string (nullable = true)\n",
      " |-- wiki: string (nullable = true)\n",
      " |-- datetime: string (nullable = true)\n",
      " |-- minute: string (nullable = true)\n",
      " |-- avg_edit: long (nullable = false)\n",
      "\n"
     ]
    }
   ],
   "source": [
    "df.printSchema()"
   ]
  },
  {
   "cell_type": "code",
   "execution_count": 67,
   "id": "b15c122a-faab-451f-9af7-e1d16048ea05",
   "metadata": {},
   "outputs": [
    {
     "name": "stdout",
     "output_type": "stream",
     "text": [
      "+---------------+-----+\n",
      "|           user|  bot|\n",
      "+---------------+-----+\n",
      "|      Cloudz679|false|\n",
      "|   Kristbaumbot| true|\n",
      "|    Terraflorin| true|\n",
      "|        Funnytu|false|\n",
      "|       Kenlnwza|false|\n",
      "|      Aygunmirz|false|\n",
      "|       Carlo58s|false|\n",
      "|     CuratorBot| true|\n",
      "|  NearEMPTiness|false|\n",
      "|        Gbawden|false|\n",
      "| 60.118.117.249|false|\n",
      "|PortusCaleDraco|false|\n",
      "|            GBG|false|\n",
      "|           인케|false|\n",
      "|    Accurimbono|false|\n",
      "|         Wheeke|false|\n",
      "|       FuzzyBot| true|\n",
      "|    OrlodrimBot| true|\n",
      "|  SchlurcherBot| true|\n",
      "|       Parpan05|false|\n",
      "+---------------+-----+\n",
      "only showing top 20 rows\n",
      "\n"
     ]
    }
   ],
   "source": [
    "df.select('user', 'bot').distinct().show()\n",
    "df.createOrReplaceTempView(\"wikimedia\")"
   ]
  },
  {
   "cell_type": "code",
   "execution_count": 73,
   "id": "fd51a3aa-7589-4a98-a7be-61d053f6e613",
   "metadata": {},
   "outputs": [
    {
     "name": "stdout",
     "output_type": "stream",
     "text": [
      "+---------------+-----+---------+\n",
      "|           user|  bot|   editor|\n",
      "+---------------+-----+---------+\n",
      "|   176.1.12.124|false|Anonymous|\n",
      "|  120.29.87.147|false|Anonymous|\n",
      "| 60.118.117.249|false|Anonymous|\n",
      "|114.190.216.188|false|Anonymous|\n",
      "+---------------+-----+---------+\n",
      "\n"
     ]
    }
   ],
   "source": [
    "spark.sql(\"\"\"\n",
    "SELECT user,bot,case when bot = true\n",
    "then 'Bot'\n",
    "when user regexp '^((25[0-5]|2[0-4][0-9]|[01]?[0-9][0-9]?)\\.){3}(25[0-5]|2[0-4][0-9]|[01]?[0-9][0-9]?)$'\n",
    "then 'Anonymous'\n",
    "else 'User'\n",
    "end as editor\n",
    "FROM WIKIMEDIA\n",
    "\"\"\").show()"
   ]
  },
  {
   "cell_type": "code",
   "execution_count": null,
   "id": "b5fe9c22-fc9c-484d-8a23-3d5613dfbeab",
   "metadata": {},
   "outputs": [],
   "source": [
    "f.regexp(f.col('user'),), 'Anonymous')"
   ]
  },
  {
   "cell_type": "code",
   "execution_count": 94,
   "id": "c6b54855-fcc9-4847-b449-ce0ee2720c06",
   "metadata": {},
   "outputs": [],
   "source": [
    "df = df.withColumn(\"type_of_editor\", f.when(f.col(\"bot\") == 'true', 'Bot')\\\n",
    "              .when(f.regexp(f.col('user'), f.lit(r'^((25[0-5]|2[0-4][0-9]|[01]?[0-9][0-9]?)\\.){3}(25[0-5]|2[0-4][0-9]|[01]?[0-9][0-9]?)$')), 'Anonymous').otherwise('User'))"
   ]
  },
  {
   "cell_type": "code",
   "execution_count": 101,
   "id": "40bea1bc-dcf5-4a86-a7e8-f1cc264c21ba",
   "metadata": {},
   "outputs": [],
   "source": [
    "editing_count = df.groupBy([\"type_of_editor\"]).agg(f.count(\"*\").alias(\"count_per_editor\"))"
   ]
  },
  {
   "cell_type": "code",
   "execution_count": 102,
   "id": "bcc4052b-3bca-4408-89b4-e4765d02b577",
   "metadata": {},
   "outputs": [
    {
     "name": "stdout",
     "output_type": "stream",
     "text": [
      "+--------------+----------------+\n",
      "|type_of_editor|count_per_editor|\n",
      "+--------------+----------------+\n",
      "|           Bot|              60|\n",
      "|     Anonymous|               4|\n",
      "|          User|              80|\n",
      "+--------------+----------------+\n",
      "\n"
     ]
    }
   ],
   "source": [
    "editing_count.show()"
   ]
  },
  {
   "cell_type": "code",
   "execution_count": 103,
   "id": "14ea2f68-22a4-4b8e-8130-7082630d85f4",
   "metadata": {},
   "outputs": [
    {
     "data": {
      "text/plain": [
       "'3.5.0'"
      ]
     },
     "execution_count": 103,
     "metadata": {},
     "output_type": "execute_result"
    }
   ],
   "source": [
    "spark.version"
   ]
  },
  {
   "cell_type": "code",
   "execution_count": null,
   "id": "a5dbfb6b-932f-4de6-990e-d32643202020",
   "metadata": {},
   "outputs": [],
   "source": []
  }
 ],
 "metadata": {
  "kernelspec": {
   "display_name": "Python 3 (ipykernel)",
   "language": "python",
   "name": "python3"
  },
  "language_info": {
   "codemirror_mode": {
    "name": "ipython",
    "version": 3
   },
   "file_extension": ".py",
   "mimetype": "text/x-python",
   "name": "python",
   "nbconvert_exporter": "python",
   "pygments_lexer": "ipython3",
   "version": "3.11.6"
  }
 },
 "nbformat": 4,
 "nbformat_minor": 5
}
